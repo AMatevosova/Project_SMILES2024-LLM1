{
 "cells": [
  {
   "cell_type": "code",
   "execution_count": 1,
   "id": "112a71ae",
   "metadata": {
    "execution": {
     "iopub.execute_input": "2024-08-10T14:12:55.025882Z",
     "iopub.status.busy": "2024-08-10T14:12:55.024532Z",
     "iopub.status.idle": "2024-08-10T14:12:55.063136Z",
     "shell.execute_reply": "2024-08-10T14:12:55.061813Z",
     "shell.execute_reply.started": "2024-08-10T14:12:55.025822Z"
    },
    "id": "112a71ae",
    "tags": []
   },
   "outputs": [],
   "source": [
    "import pandas as pd"
   ]
  },
  {
   "cell_type": "code",
   "execution_count": 2,
   "id": "3133d291",
   "metadata": {
    "execution": {
     "iopub.execute_input": "2024-08-10T14:12:55.066323Z",
     "iopub.status.busy": "2024-08-10T14:12:55.064786Z",
     "iopub.status.idle": "2024-08-10T14:12:55.668892Z",
     "shell.execute_reply": "2024-08-10T14:12:55.668047Z",
     "shell.execute_reply.started": "2024-08-10T14:12:55.066281Z"
    },
    "id": "3133d291",
    "tags": []
   },
   "outputs": [],
   "source": [
    "df=pd.read_excel('tst_tr_chegeka.xlsx')"
   ]
  },
  {
   "cell_type": "code",
   "execution_count": 3,
   "id": "ac4ee9cb",
   "metadata": {
    "execution": {
     "iopub.execute_input": "2024-08-10T14:12:55.671376Z",
     "iopub.status.busy": "2024-08-10T14:12:55.670641Z",
     "iopub.status.idle": "2024-08-10T14:12:55.711622Z",
     "shell.execute_reply": "2024-08-10T14:12:55.710566Z",
     "shell.execute_reply.started": "2024-08-10T14:12:55.671340Z"
    },
    "id": "ac4ee9cb",
    "tags": []
   },
   "outputs": [
    {
     "data": {
      "text/html": [
       "<div>\n",
       "<style scoped>\n",
       "    .dataframe tbody tr th:only-of-type {\n",
       "        vertical-align: middle;\n",
       "    }\n",
       "\n",
       "    .dataframe tbody tr th {\n",
       "        vertical-align: top;\n",
       "    }\n",
       "\n",
       "    .dataframe thead th {\n",
       "        text-align: right;\n",
       "    }\n",
       "</style>\n",
       "<table border=\"1\" class=\"dataframe\">\n",
       "  <thead>\n",
       "    <tr style=\"text-align: right;\">\n",
       "      <th></th>\n",
       "      <th>Unnamed: 0</th>\n",
       "      <th>q</th>\n",
       "      <th>a</th>\n",
       "    </tr>\n",
       "  </thead>\n",
       "  <tbody>\n",
       "    <tr>\n",
       "      <th>0</th>\n",
       "      <td>0</td>\n",
       "      <td>В одном из эпизодов мультфильма Криса Батлера ...</td>\n",
       "      <td>сэр, сир, sir</td>\n",
       "    </tr>\n",
       "    <tr>\n",
       "      <th>1</th>\n",
       "      <td>1</td>\n",
       "      <td>В коротком произведении Елены Кацюбы в аду зло...</td>\n",
       "      <td>удав</td>\n",
       "    </tr>\n",
       "    <tr>\n",
       "      <th>2</th>\n",
       "      <td>2</td>\n",
       "      <td>По сюжету фильма Дэвида Хьюитта четверо астрон...</td>\n",
       "      <td>Дороти, Элли</td>\n",
       "    </tr>\n",
       "    <tr>\n",
       "      <th>3</th>\n",
       "      <td>3</td>\n",
       "      <td>Дэвид Вуттон пишет, что раньше одни учёные пол...</td>\n",
       "      <td>игра Камень ножницы бумага, Камень ножницы бумага</td>\n",
       "    </tr>\n",
       "    <tr>\n",
       "      <th>4</th>\n",
       "      <td>4</td>\n",
       "      <td>Ведущие украинской телепередачи “Орёл и решка”...</td>\n",
       "      <td>Дома лучше, А дома лучше</td>\n",
       "    </tr>\n",
       "    <tr>\n",
       "      <th>...</th>\n",
       "      <td>...</td>\n",
       "      <td>...</td>\n",
       "      <td>...</td>\n",
       "    </tr>\n",
       "    <tr>\n",
       "      <th>836</th>\n",
       "      <td>847</td>\n",
       "      <td>Животные рода хрисаора также известны как морс...</td>\n",
       "      <td>Медуса, Медуза</td>\n",
       "    </tr>\n",
       "    <tr>\n",
       "      <th>837</th>\n",
       "      <td>848</td>\n",
       "      <td>Альберто Анджела пишет, что если проследить пе...</td>\n",
       "      <td>монета</td>\n",
       "    </tr>\n",
       "    <tr>\n",
       "      <th>838</th>\n",
       "      <td>849</td>\n",
       "      <td>В казахских танцах движения рук имеют важную р...</td>\n",
       "      <td>на себя, от себя</td>\n",
       "    </tr>\n",
       "    <tr>\n",
       "      <th>839</th>\n",
       "      <td>850</td>\n",
       "      <td>Начало карьеры Линдси Лохан в кино было по-нас...</td>\n",
       "      <td>диснеевские принцессы, принцессы Дисней</td>\n",
       "    </tr>\n",
       "    <tr>\n",
       "      <th>840</th>\n",
       "      <td>851</td>\n",
       "      <td>Казахские девушки традиционно заплетают волосы...</td>\n",
       "      <td>свадьба, замужество</td>\n",
       "    </tr>\n",
       "  </tbody>\n",
       "</table>\n",
       "<p>841 rows × 3 columns</p>\n",
       "</div>"
      ],
      "text/plain": [
       "     Unnamed: 0  ...                                                  a\n",
       "0             0  ...                                      сэр, сир, sir\n",
       "1             1  ...                                               удав\n",
       "2             2  ...                                       Дороти, Элли\n",
       "3             3  ...  игра Камень ножницы бумага, Камень ножницы бумага\n",
       "4             4  ...                           Дома лучше, А дома лучше\n",
       "..          ...  ...                                                ...\n",
       "836         847  ...                                     Медуса, Медуза\n",
       "837         848  ...                                             монета\n",
       "838         849  ...                                   на себя, от себя\n",
       "839         850  ...            диснеевские принцессы, принцессы Дисней\n",
       "840         851  ...                                свадьба, замужество\n",
       "\n",
       "[841 rows x 3 columns]"
      ]
     },
     "execution_count": 3,
     "metadata": {},
     "output_type": "execute_result"
    }
   ],
   "source": [
    "df"
   ]
  },
  {
   "cell_type": "code",
   "execution_count": 4,
   "id": "d89dfbfa",
   "metadata": {
    "execution": {
     "iopub.execute_input": "2024-08-10T14:12:55.714065Z",
     "iopub.status.busy": "2024-08-10T14:12:55.712860Z",
     "iopub.status.idle": "2024-08-10T14:12:57.580316Z",
     "shell.execute_reply": "2024-08-10T14:12:57.579619Z",
     "shell.execute_reply.started": "2024-08-10T14:12:55.714009Z"
    },
    "id": "d89dfbfa",
    "tags": []
   },
   "outputs": [],
   "source": [
    "from sklearn.model_selection import train_test_split"
   ]
  },
  {
   "cell_type": "code",
   "execution_count": 5,
   "id": "93ae5100",
   "metadata": {
    "execution": {
     "iopub.execute_input": "2024-08-10T14:12:57.582387Z",
     "iopub.status.busy": "2024-08-10T14:12:57.581922Z",
     "iopub.status.idle": "2024-08-10T14:12:57.604526Z",
     "shell.execute_reply": "2024-08-10T14:12:57.603696Z",
     "shell.execute_reply.started": "2024-08-10T14:12:57.582353Z"
    },
    "id": "93ae5100",
    "tags": []
   },
   "outputs": [],
   "source": [
    "train, test = train_test_split(df,test_size=400, random_state=42)"
   ]
  },
  {
   "cell_type": "code",
   "execution_count": 6,
   "id": "4cf8e7ac",
   "metadata": {
    "execution": {
     "iopub.execute_input": "2024-08-10T14:13:07.764152Z",
     "iopub.status.busy": "2024-08-10T14:13:07.762978Z",
     "iopub.status.idle": "2024-08-10T14:13:07.777354Z",
     "shell.execute_reply": "2024-08-10T14:13:07.776724Z",
     "shell.execute_reply.started": "2024-08-10T14:13:07.764109Z"
    },
    "id": "4cf8e7ac",
    "tags": []
   },
   "outputs": [],
   "source": [
    "base_string='Вы участвуете в викторине “Что? Где? Когда?”. Внимательно прочитайте вопрос и ответьте на него. Обратите внимание на формат ответа: если он не указан в вопросе, то запишите только слово или фразу, отвечающую на вопрос, никаких дополнительных рассуждений приводить не нужно. Вопрос:'"
   ]
  },
  {
   "cell_type": "markdown",
   "id": "ecadeffb",
   "metadata": {
    "id": "ecadeffb"
   },
   "source": [
    "# Инференс"
   ]
  },
  {
   "cell_type": "code",
   "execution_count": 7,
   "id": "55300eee",
   "metadata": {
    "execution": {
     "iopub.execute_input": "2024-08-10T14:13:08.608900Z",
     "iopub.status.busy": "2024-08-10T14:13:08.607897Z",
     "iopub.status.idle": "2024-08-10T14:13:08.630459Z",
     "shell.execute_reply": "2024-08-10T14:13:08.629625Z",
     "shell.execute_reply.started": "2024-08-10T14:13:08.608859Z"
    },
    "id": "55300eee",
    "tags": []
   },
   "outputs": [],
   "source": [
    "# pip install --upgrade pip"
   ]
  },
  {
   "cell_type": "code",
   "execution_count": 8,
   "id": "113882d6",
   "metadata": {
    "execution": {
     "iopub.execute_input": "2024-08-10T14:13:09.139104Z",
     "iopub.status.busy": "2024-08-10T14:13:09.137948Z",
     "iopub.status.idle": "2024-08-10T14:13:09.149699Z",
     "shell.execute_reply": "2024-08-10T14:13:09.148859Z",
     "shell.execute_reply.started": "2024-08-10T14:13:09.139065Z"
    },
    "id": "113882d6",
    "tags": []
   },
   "outputs": [],
   "source": [
    "# pip install wheel #### Нужно для pip install yandexgpt-python"
   ]
  },
  {
   "cell_type": "code",
   "execution_count": 9,
   "id": "f7238e4c",
   "metadata": {
    "execution": {
     "iopub.execute_input": "2024-08-10T14:13:09.737938Z",
     "iopub.status.busy": "2024-08-10T14:13:09.737061Z",
     "iopub.status.idle": "2024-08-10T14:13:09.752789Z",
     "shell.execute_reply": "2024-08-10T14:13:09.751856Z",
     "shell.execute_reply.started": "2024-08-10T14:13:09.737887Z"
    },
    "id": "f7238e4c",
    "tags": []
   },
   "outputs": [],
   "source": [
    "# pip install yandexgpt-python\n",
    "#from env_vars import *"
   ]
  },
  {
   "cell_type": "code",
   "execution_count": 10,
   "id": "fc01de0d",
   "metadata": {
    "execution": {
     "iopub.execute_input": "2024-08-10T14:13:10.167376Z",
     "iopub.status.busy": "2024-08-10T14:13:10.166249Z",
     "iopub.status.idle": "2024-08-10T14:13:10.770445Z",
     "shell.execute_reply": "2024-08-10T14:13:10.769649Z",
     "shell.execute_reply.started": "2024-08-10T14:13:10.167334Z"
    },
    "id": "fc01de0d",
    "tags": []
   },
   "outputs": [],
   "source": [
    "from yandex_gpt import YandexGPTConfigManagerForAPIKey\n",
    "\n",
    "# Initialize the configuration manager with model type, catalog ID, and API key\n",
    "config_manager = YandexGPTConfigManagerForAPIKey(\n",
    "    model_type=\"yandexgpt\",\n",
    "    catalog_id=CATALOG_ID,\n",
    "    api_key=API_KEY\n",
    ")"
   ]
  },
  {
   "cell_type": "code",
   "execution_count": 11,
   "id": "a60b5890",
   "metadata": {
    "execution": {
     "iopub.execute_input": "2024-08-10T14:13:11.240577Z",
     "iopub.status.busy": "2024-08-10T14:13:11.239318Z",
     "iopub.status.idle": "2024-08-10T14:13:11.263581Z",
     "shell.execute_reply": "2024-08-10T14:13:11.262642Z",
     "shell.execute_reply.started": "2024-08-10T14:13:11.240523Z"
    },
    "id": "a60b5890",
    "tags": []
   },
   "outputs": [],
   "source": [
    "from yandex_gpt import YandexGPT\n",
    "\n",
    "# Initialize YandexGPT with a configuration manager\n",
    "yandex_gpt = YandexGPT(config_manager=config_manager)"
   ]
  },
  {
   "cell_type": "code",
   "execution_count": 12,
   "id": "6cdc22b6",
   "metadata": {
    "execution": {
     "iopub.execute_input": "2024-08-10T14:13:13.778974Z",
     "iopub.status.busy": "2024-08-10T14:13:13.777947Z",
     "iopub.status.idle": "2024-08-10T14:13:13.788742Z",
     "shell.execute_reply": "2024-08-10T14:13:13.788071Z",
     "shell.execute_reply.started": "2024-08-10T14:13:13.778941Z"
    },
    "id": "6cdc22b6",
    "tags": []
   },
   "outputs": [],
   "source": [
    "from time import sleep\n",
    "def query_gpt(row, prompt=base_string):\n",
    "    completion = yandex_gpt.get_sync_completion(messages=[{'role': 'user', 'text': base_string+row['q'] + ' Ответ:' }])\n",
    "    sleep(1)\n",
    "    return completion"
   ]
  },
  {
   "cell_type": "code",
   "execution_count": 13,
   "id": "45b3266e",
   "metadata": {
    "execution": {
     "iopub.execute_input": "2024-08-10T14:13:14.036467Z",
     "iopub.status.busy": "2024-08-10T14:13:14.035225Z",
     "iopub.status.idle": "2024-08-10T14:13:14.057716Z",
     "shell.execute_reply": "2024-08-10T14:13:14.056909Z",
     "shell.execute_reply.started": "2024-08-10T14:13:14.036424Z"
    },
    "id": "45b3266e",
    "tags": []
   },
   "outputs": [
    {
     "data": {
      "text/html": [
       "<div>\n",
       "<style scoped>\n",
       "    .dataframe tbody tr th:only-of-type {\n",
       "        vertical-align: middle;\n",
       "    }\n",
       "\n",
       "    .dataframe tbody tr th {\n",
       "        vertical-align: top;\n",
       "    }\n",
       "\n",
       "    .dataframe thead th {\n",
       "        text-align: right;\n",
       "    }\n",
       "</style>\n",
       "<table border=\"1\" class=\"dataframe\">\n",
       "  <thead>\n",
       "    <tr style=\"text-align: right;\">\n",
       "      <th></th>\n",
       "      <th>Unnamed: 0</th>\n",
       "      <th>q</th>\n",
       "      <th>a</th>\n",
       "    </tr>\n",
       "  </thead>\n",
       "  <tbody>\n",
       "    <tr>\n",
       "      <th>485</th>\n",
       "      <td>492</td>\n",
       "      <td>Автор детективов Иэн Рэнкин увлекается неким з...</td>\n",
       "      <td>собирать пазл, собирать мозаику, складывать па...</td>\n",
       "    </tr>\n",
       "    <tr>\n",
       "      <th>817</th>\n",
       "      <td>828</td>\n",
       "      <td>Некоторые виды мух называют путниками из-за их...</td>\n",
       "      <td>спутниками, спутники, спутник</td>\n",
       "    </tr>\n",
       "    <tr>\n",
       "      <th>30</th>\n",
       "      <td>33</td>\n",
       "      <td>Хави Повес активно продвигает концепцию плоско...</td>\n",
       "      <td>астронавт, космонавт</td>\n",
       "    </tr>\n",
       "    <tr>\n",
       "      <th>551</th>\n",
       "      <td>560</td>\n",
       "      <td>Борющаяся с музыкальными корпорациями группа C...</td>\n",
       "      <td>троянский конь</td>\n",
       "    </tr>\n",
       "    <tr>\n",
       "      <th>96</th>\n",
       "      <td>100</td>\n",
       "      <td>Голландский шахматист Мануэль Босбом выиграл с...</td>\n",
       "      <td>дырка, дыра</td>\n",
       "    </tr>\n",
       "    <tr>\n",
       "      <th>...</th>\n",
       "      <td>...</td>\n",
       "      <td>...</td>\n",
       "      <td>...</td>\n",
       "    </tr>\n",
       "    <tr>\n",
       "      <th>289</th>\n",
       "      <td>294</td>\n",
       "      <td>Василий Рóзанов писал, что Наталья Нóрдман пог...</td>\n",
       "      <td>пылесос</td>\n",
       "    </tr>\n",
       "    <tr>\n",
       "      <th>238</th>\n",
       "      <td>243</td>\n",
       "      <td>Математик семнадцатого века Джон ВАллис активн...</td>\n",
       "      <td>курица, куриная лапа, лапа курицы, лапка куриц...</td>\n",
       "    </tr>\n",
       "    <tr>\n",
       "      <th>0</th>\n",
       "      <td>0</td>\n",
       "      <td>В одном из эпизодов мультфильма Криса Батлера ...</td>\n",
       "      <td>сэр, сир, sir</td>\n",
       "    </tr>\n",
       "    <tr>\n",
       "      <th>832</th>\n",
       "      <td>843</td>\n",
       "      <td>В стихотворении под названием «ОН» Дэвид Лоуре...</td>\n",
       "      <td>комары, комар, комарик</td>\n",
       "    </tr>\n",
       "    <tr>\n",
       "      <th>409</th>\n",
       "      <td>416</td>\n",
       "      <td>«Сначала паруса, а потом корпус корабля». Это ...</td>\n",
       "      <td>шарообразность Земли, Что Земля шар, а также Ч...</td>\n",
       "    </tr>\n",
       "  </tbody>\n",
       "</table>\n",
       "<p>400 rows × 3 columns</p>\n",
       "</div>"
      ],
      "text/plain": [
       "     Unnamed: 0  ...                                                  a\n",
       "485         492  ...  собирать пазл, собирать мозаику, складывать па...\n",
       "817         828  ...                      спутниками, спутники, спутник\n",
       "30           33  ...                               астронавт, космонавт\n",
       "551         560  ...                                     троянский конь\n",
       "96          100  ...                                        дырка, дыра\n",
       "..          ...  ...                                                ...\n",
       "289         294  ...                                            пылесос\n",
       "238         243  ...  курица, куриная лапа, лапа курицы, лапка куриц...\n",
       "0             0  ...                                      сэр, сир, sir\n",
       "832         843  ...                             комары, комар, комарик\n",
       "409         416  ...  шарообразность Земли, Что Земля шар, а также Ч...\n",
       "\n",
       "[400 rows x 3 columns]"
      ]
     },
     "execution_count": 13,
     "metadata": {},
     "output_type": "execute_result"
    }
   ],
   "source": [
    "test "
   ]
  },
  {
   "cell_type": "code",
   "execution_count": 14,
   "id": "9fbfc0fb",
   "metadata": {
    "execution": {
     "iopub.execute_input": "2024-08-10T14:13:17.318439Z",
     "iopub.status.busy": "2024-08-10T14:13:17.317478Z",
     "iopub.status.idle": "2024-08-10T14:22:57.424751Z",
     "shell.execute_reply": "2024-08-10T14:22:57.423994Z",
     "shell.execute_reply.started": "2024-08-10T14:13:17.318397Z"
    },
    "tags": []
   },
   "outputs": [],
   "source": [
    "test['predict'] = test.apply(query_gpt, axis=1)"
   ]
  },
  {
   "cell_type": "code",
   "execution_count": 15,
   "id": "cab4904c",
   "metadata": {
    "execution": {
     "iopub.execute_input": "2024-08-10T14:23:12.734901Z",
     "iopub.status.busy": "2024-08-10T14:23:12.733828Z",
     "iopub.status.idle": "2024-08-10T14:23:12.757290Z",
     "shell.execute_reply": "2024-08-10T14:23:12.756641Z",
     "shell.execute_reply.started": "2024-08-10T14:23:12.734861Z"
    }
   },
   "outputs": [],
   "source": [
    "test.to_csv('test_results.csv')"
   ]
  },
  {
   "cell_type": "code",
   "execution_count": 16,
   "id": "4cdc5692",
   "metadata": {
    "execution": {
     "iopub.execute_input": "2024-08-10T14:23:16.474659Z",
     "iopub.status.busy": "2024-08-10T14:23:16.473573Z",
     "iopub.status.idle": "2024-08-10T14:23:16.486595Z",
     "shell.execute_reply": "2024-08-10T14:23:16.485870Z",
     "shell.execute_reply.started": "2024-08-10T14:23:16.474597Z"
    }
   },
   "outputs": [
    {
     "data": {
      "text/plain": [
       "400"
      ]
     },
     "execution_count": 16,
     "metadata": {},
     "output_type": "execute_result"
    }
   ],
   "source": [
    "len(test)"
   ]
  },
  {
   "cell_type": "code",
   "execution_count": 17,
   "id": "a06431a4",
   "metadata": {
    "execution": {
     "iopub.execute_input": "2024-08-10T14:23:17.337430Z",
     "iopub.status.busy": "2024-08-10T14:23:17.336315Z",
     "iopub.status.idle": "2024-08-10T14:23:17.362873Z",
     "shell.execute_reply": "2024-08-10T14:23:17.362195Z",
     "shell.execute_reply.started": "2024-08-10T14:23:17.337383Z"
    }
   },
   "outputs": [
    {
     "data": {
      "text/html": [
       "<div>\n",
       "<style scoped>\n",
       "    .dataframe tbody tr th:only-of-type {\n",
       "        vertical-align: middle;\n",
       "    }\n",
       "\n",
       "    .dataframe tbody tr th {\n",
       "        vertical-align: top;\n",
       "    }\n",
       "\n",
       "    .dataframe thead th {\n",
       "        text-align: right;\n",
       "    }\n",
       "</style>\n",
       "<table border=\"1\" class=\"dataframe\">\n",
       "  <thead>\n",
       "    <tr style=\"text-align: right;\">\n",
       "      <th></th>\n",
       "      <th>Unnamed: 0</th>\n",
       "      <th>q</th>\n",
       "      <th>a</th>\n",
       "      <th>predict</th>\n",
       "    </tr>\n",
       "  </thead>\n",
       "  <tbody>\n",
       "    <tr>\n",
       "      <th>485</th>\n",
       "      <td>492</td>\n",
       "      <td>Автор детективов Иэн Рэнкин увлекается неким з...</td>\n",
       "      <td>собирать пазл, собирать мозаику, складывать па...</td>\n",
       "      <td>Раскладывать пасьянс.</td>\n",
       "    </tr>\n",
       "    <tr>\n",
       "      <th>817</th>\n",
       "      <td>828</td>\n",
       "      <td>Некоторые виды мух называют путниками из-за их...</td>\n",
       "      <td>спутниками, спутники, спутник</td>\n",
       "      <td>расстоянии</td>\n",
       "    </tr>\n",
       "    <tr>\n",
       "      <th>30</th>\n",
       "      <td>33</td>\n",
       "      <td>Хави Повес активно продвигает концепцию плоско...</td>\n",
       "      <td>астронавт, космонавт</td>\n",
       "      <td>Космонавт</td>\n",
       "    </tr>\n",
       "    <tr>\n",
       "      <th>551</th>\n",
       "      <td>560</td>\n",
       "      <td>Борющаяся с музыкальными корпорациями группа C...</td>\n",
       "      <td>троянский конь</td>\n",
       "      <td>Прогрессирующий параноик.</td>\n",
       "    </tr>\n",
       "    <tr>\n",
       "      <th>96</th>\n",
       "      <td>100</td>\n",
       "      <td>Голландский шахматист Мануэль Босбом выиграл с...</td>\n",
       "      <td>дырка, дыра</td>\n",
       "      <td>Надпись.</td>\n",
       "    </tr>\n",
       "    <tr>\n",
       "      <th>...</th>\n",
       "      <td>...</td>\n",
       "      <td>...</td>\n",
       "      <td>...</td>\n",
       "      <td>...</td>\n",
       "    </tr>\n",
       "    <tr>\n",
       "      <th>289</th>\n",
       "      <td>294</td>\n",
       "      <td>Василий Рóзанов писал, что Наталья Нóрдман пог...</td>\n",
       "      <td>пылесос</td>\n",
       "      <td>Каспийское море.</td>\n",
       "    </tr>\n",
       "    <tr>\n",
       "      <th>238</th>\n",
       "      <td>243</td>\n",
       "      <td>Математик семнадцатого века Джон ВАллис активн...</td>\n",
       "      <td>курица, куриная лапа, лапа курицы, лапка куриц...</td>\n",
       "      <td>ЕЁ — курица.</td>\n",
       "    </tr>\n",
       "    <tr>\n",
       "      <th>0</th>\n",
       "      <td>0</td>\n",
       "      <td>В одном из эпизодов мультфильма Криса Батлера ...</td>\n",
       "      <td>сэр, сир, sir</td>\n",
       "      <td>«Улыбнись!»</td>\n",
       "    </tr>\n",
       "    <tr>\n",
       "      <th>832</th>\n",
       "      <td>843</td>\n",
       "      <td>В стихотворении под названием «ОН» Дэвид Лоуре...</td>\n",
       "      <td>комары, комар, комарик</td>\n",
       "      <td>Элли</td>\n",
       "    </tr>\n",
       "    <tr>\n",
       "      <th>409</th>\n",
       "      <td>416</td>\n",
       "      <td>«Сначала паруса, а потом корпус корабля». Это ...</td>\n",
       "      <td>шарообразность Земли, Что Земля шар, а также Ч...</td>\n",
       "      <td>Бесконечность мира.</td>\n",
       "    </tr>\n",
       "  </tbody>\n",
       "</table>\n",
       "<p>400 rows × 4 columns</p>\n",
       "</div>"
      ],
      "text/plain": [
       "     Unnamed: 0  ...                    predict\n",
       "485         492  ...      Раскладывать пасьянс.\n",
       "817         828  ...                 расстоянии\n",
       "30           33  ...                  Космонавт\n",
       "551         560  ...  Прогрессирующий параноик.\n",
       "96          100  ...                   Надпись.\n",
       "..          ...  ...                        ...\n",
       "289         294  ...           Каспийское море.\n",
       "238         243  ...               ЕЁ — курица.\n",
       "0             0  ...                «Улыбнись!»\n",
       "832         843  ...                       Элли\n",
       "409         416  ...        Бесконечность мира.\n",
       "\n",
       "[400 rows x 4 columns]"
      ]
     },
     "execution_count": 17,
     "metadata": {},
     "output_type": "execute_result"
    }
   ],
   "source": [
    "test"
   ]
  },
  {
   "cell_type": "markdown",
   "id": "55ebf45e",
   "metadata": {
    "id": "55ebf45e"
   },
   "source": [
    "# Вычисление итоговой метрики"
   ]
  },
  {
   "cell_type": "code",
   "execution_count": 18,
   "id": "00a51859",
   "metadata": {
    "execution": {
     "iopub.execute_input": "2024-08-10T14:23:24.706559Z",
     "iopub.status.busy": "2024-08-10T14:23:24.705511Z",
     "iopub.status.idle": "2024-08-10T14:23:24.720036Z",
     "shell.execute_reply": "2024-08-10T14:23:24.719333Z",
     "shell.execute_reply.started": "2024-08-10T14:23:24.706512Z"
    },
    "id": "00a51859"
   },
   "outputs": [],
   "source": [
    "def normalize_text(s):\n",
    "    \"\"\"Removing articles and punctuation, and standardizing whitespace are all typical text processing steps.\"\"\"\n",
    "    import string, re\n",
    "\n",
    "    def remove_articles(text):\n",
    "        regex = re.compile(r\"\\b(a|an|the)\\b\", re.UNICODE)\n",
    "        return re.sub(regex, \" \", text)\n",
    "\n",
    "    def white_space_fix(text):\n",
    "        return \" \".join(text.split())\n",
    "\n",
    "    def remove_punc(text):\n",
    "        exclude = set(string.punctuation)\n",
    "        return \"\".join(ch for ch in text if ch not in exclude)\n",
    "\n",
    "    def lower(text):\n",
    "        return text.lower()\n",
    "\n",
    "    return white_space_fix(remove_articles(remove_punc(lower(s))))\n",
    "\n",
    "def compute_exact_match(prediction, truth):\n",
    "    return int(normalize_text(prediction) == normalize_text(truth))\n",
    "\n",
    "def compute_f1(prediction, truth):\n",
    "    pred_tokens = normalize_text(prediction).split()\n",
    "    truth_tokens = normalize_text(truth).split()\n",
    "\n",
    "    # if either the prediction or the truth is no-answer then f1 = 1 if they agree, 0 otherwise\n",
    "    if len(pred_tokens) == 0 or len(truth_tokens) == 0:\n",
    "        return int(pred_tokens == truth_tokens)\n",
    "\n",
    "    common_tokens = set(pred_tokens) & set(truth_tokens)\n",
    "\n",
    "    # if there are no common tokens then f1 = 0\n",
    "    if len(common_tokens) == 0:\n",
    "        return 0\n",
    "\n",
    "    prec = len(common_tokens) / len(pred_tokens)\n",
    "    rec = len(common_tokens) / len(truth_tokens)\n",
    "\n",
    "    return 2 * (prec * rec) / (prec + rec)"
   ]
  },
  {
   "cell_type": "code",
   "execution_count": 19,
   "id": "8efcd660",
   "metadata": {
    "execution": {
     "iopub.execute_input": "2024-08-10T14:23:26.574529Z",
     "iopub.status.busy": "2024-08-10T14:23:26.573319Z",
     "iopub.status.idle": "2024-08-10T14:23:26.589351Z",
     "shell.execute_reply": "2024-08-10T14:23:26.588553Z",
     "shell.execute_reply.started": "2024-08-10T14:23:26.574486Z"
    },
    "id": "8efcd660"
   },
   "outputs": [],
   "source": [
    "def metrics_calculation(df):\n",
    "    df['a_list']=df.apply(lambda x: x['a'].split(','), axis=1)\n",
    "    df['f1_score']=df.apply(lambda x: max([compute_f1(x['predict'], elem) for elem in x['a_list']]), axis=1)\n",
    "    df['exact_match']=df.apply(lambda x: max([compute_exact_match(x['predict'], elem) for elem in x['a_list']]), axis=1)\n",
    "    return df"
   ]
  },
  {
   "cell_type": "code",
   "execution_count": 20,
   "id": "f8a2c43b",
   "metadata": {
    "execution": {
     "iopub.execute_input": "2024-08-10T14:23:32.668136Z",
     "iopub.status.busy": "2024-08-10T14:23:32.666924Z",
     "iopub.status.idle": "2024-08-10T14:23:32.715655Z",
     "shell.execute_reply": "2024-08-10T14:23:32.714846Z",
     "shell.execute_reply.started": "2024-08-10T14:23:32.668093Z"
    },
    "id": "f8a2c43b"
   },
   "outputs": [],
   "source": [
    "test=metrics_calculation(test)\n",
    "total_f1_score=test['f1_score'].mean()\n",
    "total_exact_match=test['exact_match'].mean()"
   ]
  },
  {
   "cell_type": "code",
   "execution_count": 38,
   "id": "309832e6-ba8f-4fb7-9465-bff5aa60cca9",
   "metadata": {
    "execution": {
     "iopub.execute_input": "2024-08-10T14:47:34.687879Z",
     "iopub.status.busy": "2024-08-10T14:47:34.686606Z",
     "iopub.status.idle": "2024-08-10T14:47:34.702259Z",
     "shell.execute_reply": "2024-08-10T14:47:34.701567Z",
     "shell.execute_reply.started": "2024-08-10T14:47:34.687832Z"
    }
   },
   "outputs": [
    {
     "data": {
      "text/plain": [
       "0.30016666666666664"
      ]
     },
     "execution_count": 38,
     "metadata": {},
     "output_type": "execute_result"
    }
   ],
   "source": [
    "total_f1_score"
   ]
  },
  {
   "cell_type": "code",
   "execution_count": 39,
   "id": "f57fb908-5e5a-47e4-958e-be2e88097518",
   "metadata": {
    "execution": {
     "iopub.execute_input": "2024-08-10T14:47:36.194732Z",
     "iopub.status.busy": "2024-08-10T14:47:36.193357Z",
     "iopub.status.idle": "2024-08-10T14:47:36.216580Z",
     "shell.execute_reply": "2024-08-10T14:47:36.215877Z",
     "shell.execute_reply.started": "2024-08-10T14:47:36.194685Z"
    }
   },
   "outputs": [
    {
     "data": {
      "text/plain": [
       "0.2575"
      ]
     },
     "execution_count": 39,
     "metadata": {},
     "output_type": "execute_result"
    }
   ],
   "source": [
    "total_exact_match"
   ]
  },
  {
   "cell_type": "code",
   "execution_count": 21,
   "id": "fb407b1f-3d82-4c19-983d-739f20dde366",
   "metadata": {
    "execution": {
     "iopub.execute_input": "2024-08-10T14:23:47.382949Z",
     "iopub.status.busy": "2024-08-10T14:23:47.381945Z",
     "iopub.status.idle": "2024-08-10T14:23:47.408581Z",
     "shell.execute_reply": "2024-08-10T14:23:47.407904Z",
     "shell.execute_reply.started": "2024-08-10T14:23:47.382910Z"
    }
   },
   "outputs": [
    {
     "data": {
      "text/html": [
       "<div>\n",
       "<style scoped>\n",
       "    .dataframe tbody tr th:only-of-type {\n",
       "        vertical-align: middle;\n",
       "    }\n",
       "\n",
       "    .dataframe tbody tr th {\n",
       "        vertical-align: top;\n",
       "    }\n",
       "\n",
       "    .dataframe thead th {\n",
       "        text-align: right;\n",
       "    }\n",
       "</style>\n",
       "<table border=\"1\" class=\"dataframe\">\n",
       "  <thead>\n",
       "    <tr style=\"text-align: right;\">\n",
       "      <th></th>\n",
       "      <th>Unnamed: 0</th>\n",
       "      <th>q</th>\n",
       "      <th>a</th>\n",
       "      <th>predict</th>\n",
       "      <th>a_list</th>\n",
       "      <th>f1_score</th>\n",
       "      <th>exact_match</th>\n",
       "    </tr>\n",
       "  </thead>\n",
       "  <tbody>\n",
       "    <tr>\n",
       "      <th>485</th>\n",
       "      <td>492</td>\n",
       "      <td>Автор детективов Иэн Рэнкин увлекается неким з...</td>\n",
       "      <td>собирать пазл, собирать мозаику, складывать па...</td>\n",
       "      <td>Раскладывать пасьянс.</td>\n",
       "      <td>[собирать пазл,  собирать мозаику,  складывать...</td>\n",
       "      <td>0.0</td>\n",
       "      <td>0</td>\n",
       "    </tr>\n",
       "    <tr>\n",
       "      <th>817</th>\n",
       "      <td>828</td>\n",
       "      <td>Некоторые виды мух называют путниками из-за их...</td>\n",
       "      <td>спутниками, спутники, спутник</td>\n",
       "      <td>расстоянии</td>\n",
       "      <td>[спутниками,  спутники,  спутник]</td>\n",
       "      <td>0.0</td>\n",
       "      <td>0</td>\n",
       "    </tr>\n",
       "    <tr>\n",
       "      <th>30</th>\n",
       "      <td>33</td>\n",
       "      <td>Хави Повес активно продвигает концепцию плоско...</td>\n",
       "      <td>астронавт, космонавт</td>\n",
       "      <td>Космонавт</td>\n",
       "      <td>[астронавт,  космонавт]</td>\n",
       "      <td>1.0</td>\n",
       "      <td>1</td>\n",
       "    </tr>\n",
       "    <tr>\n",
       "      <th>551</th>\n",
       "      <td>560</td>\n",
       "      <td>Борющаяся с музыкальными корпорациями группа C...</td>\n",
       "      <td>троянский конь</td>\n",
       "      <td>Прогрессирующий параноик.</td>\n",
       "      <td>[троянский конь]</td>\n",
       "      <td>0.0</td>\n",
       "      <td>0</td>\n",
       "    </tr>\n",
       "    <tr>\n",
       "      <th>96</th>\n",
       "      <td>100</td>\n",
       "      <td>Голландский шахматист Мануэль Босбом выиграл с...</td>\n",
       "      <td>дырка, дыра</td>\n",
       "      <td>Надпись.</td>\n",
       "      <td>[дырка,  дыра]</td>\n",
       "      <td>0.0</td>\n",
       "      <td>0</td>\n",
       "    </tr>\n",
       "    <tr>\n",
       "      <th>...</th>\n",
       "      <td>...</td>\n",
       "      <td>...</td>\n",
       "      <td>...</td>\n",
       "      <td>...</td>\n",
       "      <td>...</td>\n",
       "      <td>...</td>\n",
       "      <td>...</td>\n",
       "    </tr>\n",
       "    <tr>\n",
       "      <th>289</th>\n",
       "      <td>294</td>\n",
       "      <td>Василий Рóзанов писал, что Наталья Нóрдман пог...</td>\n",
       "      <td>пылесос</td>\n",
       "      <td>Каспийское море.</td>\n",
       "      <td>[пылесос]</td>\n",
       "      <td>0.0</td>\n",
       "      <td>0</td>\n",
       "    </tr>\n",
       "    <tr>\n",
       "      <th>238</th>\n",
       "      <td>243</td>\n",
       "      <td>Математик семнадцатого века Джон ВАллис активн...</td>\n",
       "      <td>курица, куриная лапа, лапа курицы, лапка куриц...</td>\n",
       "      <td>ЕЁ — курица.</td>\n",
       "      <td>[курица,  куриная лапа,  лапа курицы,  лапка к...</td>\n",
       "      <td>0.5</td>\n",
       "      <td>0</td>\n",
       "    </tr>\n",
       "    <tr>\n",
       "      <th>0</th>\n",
       "      <td>0</td>\n",
       "      <td>В одном из эпизодов мультфильма Криса Батлера ...</td>\n",
       "      <td>сэр, сир, sir</td>\n",
       "      <td>«Улыбнись!»</td>\n",
       "      <td>[сэр,  сир,  sir]</td>\n",
       "      <td>0.0</td>\n",
       "      <td>0</td>\n",
       "    </tr>\n",
       "    <tr>\n",
       "      <th>832</th>\n",
       "      <td>843</td>\n",
       "      <td>В стихотворении под названием «ОН» Дэвид Лоуре...</td>\n",
       "      <td>комары, комар, комарик</td>\n",
       "      <td>Элли</td>\n",
       "      <td>[комары,  комар,  комарик]</td>\n",
       "      <td>0.0</td>\n",
       "      <td>0</td>\n",
       "    </tr>\n",
       "    <tr>\n",
       "      <th>409</th>\n",
       "      <td>416</td>\n",
       "      <td>«Сначала паруса, а потом корпус корабля». Это ...</td>\n",
       "      <td>шарообразность Земли, Что Земля шар, а также Ч...</td>\n",
       "      <td>Бесконечность мира.</td>\n",
       "      <td>[шарообразность Земли,  Что Земля шар,  а такж...</td>\n",
       "      <td>0.0</td>\n",
       "      <td>0</td>\n",
       "    </tr>\n",
       "  </tbody>\n",
       "</table>\n",
       "<p>400 rows × 7 columns</p>\n",
       "</div>"
      ],
      "text/plain": [
       "     Unnamed: 0  ... exact_match\n",
       "485         492  ...           0\n",
       "817         828  ...           0\n",
       "30           33  ...           1\n",
       "551         560  ...           0\n",
       "96          100  ...           0\n",
       "..          ...  ...         ...\n",
       "289         294  ...           0\n",
       "238         243  ...           0\n",
       "0             0  ...           0\n",
       "832         843  ...           0\n",
       "409         416  ...           0\n",
       "\n",
       "[400 rows x 7 columns]"
      ]
     },
     "execution_count": 21,
     "metadata": {},
     "output_type": "execute_result"
    }
   ],
   "source": [
    "test"
   ]
  },
  {
   "cell_type": "markdown",
   "id": "aee52a35-cd6a-4ca4-b3be-2cd5d5c79078",
   "metadata": {},
   "source": [
    "Самостоятельная оценка качества моделью"
   ]
  },
  {
   "cell_type": "code",
   "execution_count": 24,
   "id": "36bc90d1",
   "metadata": {
    "execution": {
     "iopub.execute_input": "2024-08-10T14:25:55.654185Z",
     "iopub.status.busy": "2024-08-10T14:25:55.653327Z",
     "iopub.status.idle": "2024-08-10T14:25:55.664217Z",
     "shell.execute_reply": "2024-08-10T14:25:55.663454Z",
     "shell.execute_reply.started": "2024-08-10T14:25:55.654144Z"
    },
    "tags": []
   },
   "outputs": [],
   "source": [
    "base_string2 = \"Ты профеесиональный игрок в ЧТо? Где? Когда? Я покажу тебе вопрос из Что? Где? Когда? с  правильным ответом к нему. Еще я подам ответ, который дала команда. Тебе нужно СРАВНИТЬ правильный ответ с ответом команды и ответить, можно ли зачесть ответ команды. Выведи свой ответ в таком формате: Сначала рассуждения, почему ты принял это решение. Потом ответ: #ВЕРНО, если ответ можно зачесть или #НЕВЕРНО, если нельзя. \"\n"
   ]
  },
  {
   "cell_type": "code",
   "execution_count": 27,
   "id": "5f36a5d4",
   "metadata": {
    "execution": {
     "iopub.execute_input": "2024-08-10T14:27:22.421860Z",
     "iopub.status.busy": "2024-08-10T14:27:22.420738Z",
     "iopub.status.idle": "2024-08-10T14:45:50.009107Z",
     "shell.execute_reply": "2024-08-10T14:45:50.008261Z",
     "shell.execute_reply.started": "2024-08-10T14:27:22.421818Z"
    },
    "tags": []
   },
   "outputs": [
    {
     "name": "stderr",
     "output_type": "stream",
     "text": [
      "100%|██████████| 400/400 [18:27<00:00,  2.77s/it]\n"
     ]
    }
   ],
   "source": [
    "from tqdm import tqdm\n",
    "\n",
    "tqdm.pandas()\n",
    "def query_gpt_answer(row, prompt=base_string2):\n",
    "    completion = yandex_gpt.get_sync_completion(messages=[{'role': 'user', 'text': prompt+row['q'] + ' Правильный ответ:'+ row['a'] + 'Ответ команды:' + row['predict'] }])\n",
    "    sleep(1)\n",
    "    return completion\n",
    "test['answer_checking'] =  test.progress_apply(query_gpt_answer, axis=1)"
   ]
  },
  {
   "cell_type": "code",
   "execution_count": 28,
   "id": "4c01e952",
   "metadata": {
    "execution": {
     "iopub.execute_input": "2024-08-10T14:46:36.637665Z",
     "iopub.status.busy": "2024-08-10T14:46:36.636445Z",
     "iopub.status.idle": "2024-08-10T14:46:40.386809Z",
     "shell.execute_reply": "2024-08-10T14:46:40.385942Z",
     "shell.execute_reply.started": "2024-08-10T14:46:36.637630Z"
    }
   },
   "outputs": [
    {
     "name": "stdout",
     "output_type": "stream",
     "text": [
      "Defaulting to user installation because normal site-packages is not writeable\n",
      "Collecting asyncio\n",
      "  Downloading asyncio-3.4.3-py3-none-any.whl.metadata (1.7 kB)\n",
      "Downloading asyncio-3.4.3-py3-none-any.whl (101 kB)\n",
      "\u001b[2K   \u001b[90m━━━━━━━━━━━━━━━━━━━━━━━━━━━━━━━━━━━━━━━━\u001b[0m \u001b[32m101.8/101.8 kB\u001b[0m \u001b[31m2.0 MB/s\u001b[0m eta \u001b[36m0:00:00\u001b[0m \u001b[36m0:00:01\u001b[0m\n",
      "\u001b[?25hInstalling collected packages: asyncio\n",
      "Successfully installed asyncio-3.4.3\n",
      "\n",
      "\u001b[1m[\u001b[0m\u001b[34;49mnotice\u001b[0m\u001b[1;39;49m]\u001b[0m\u001b[39;49m A new release of pip is available: \u001b[0m\u001b[31;49m23.0.1\u001b[0m\u001b[39;49m -> \u001b[0m\u001b[32;49m24.2\u001b[0m\n",
      "\u001b[1m[\u001b[0m\u001b[34;49mnotice\u001b[0m\u001b[1;39;49m]\u001b[0m\u001b[39;49m To update, run: \u001b[0m\u001b[32;49mpython3 -m pip install --upgrade pip\u001b[0m\n"
     ]
    }
   ],
   "source": [
    "%pip install asyncio\n",
    "import asyncio\n",
    "\n",
    "async def apply_async(df, func):\n",
    "    loop = asyncio.get_event_loop()\n",
    "    tasks = [loop.create_task(func(row)) for _, row in df.iterrows()]\n",
    "    return await asyncio.gather(*tasks)\n"
   ]
  },
  {
   "cell_type": "code",
   "execution_count": 29,
   "id": "7df13a97",
   "metadata": {
    "execution": {
     "iopub.execute_input": "2024-08-10T14:46:44.813023Z",
     "iopub.status.busy": "2024-08-10T14:46:44.812157Z",
     "iopub.status.idle": "2024-08-10T14:46:44.841858Z",
     "shell.execute_reply": "2024-08-10T14:46:44.841043Z",
     "shell.execute_reply.started": "2024-08-10T14:46:44.812976Z"
    }
   },
   "outputs": [
    {
     "data": {
      "text/html": [
       "<div>\n",
       "<style scoped>\n",
       "    .dataframe tbody tr th:only-of-type {\n",
       "        vertical-align: middle;\n",
       "    }\n",
       "\n",
       "    .dataframe tbody tr th {\n",
       "        vertical-align: top;\n",
       "    }\n",
       "\n",
       "    .dataframe thead th {\n",
       "        text-align: right;\n",
       "    }\n",
       "</style>\n",
       "<table border=\"1\" class=\"dataframe\">\n",
       "  <thead>\n",
       "    <tr style=\"text-align: right;\">\n",
       "      <th></th>\n",
       "      <th>Unnamed: 0</th>\n",
       "      <th>q</th>\n",
       "      <th>a</th>\n",
       "      <th>predict</th>\n",
       "      <th>a_list</th>\n",
       "      <th>f1_score</th>\n",
       "      <th>exact_match</th>\n",
       "      <th>answer_checking</th>\n",
       "    </tr>\n",
       "  </thead>\n",
       "  <tbody>\n",
       "    <tr>\n",
       "      <th>485</th>\n",
       "      <td>492</td>\n",
       "      <td>Автор детективов Иэн Рэнкин увлекается неким з...</td>\n",
       "      <td>собирать пазл, собирать мозаику, складывать па...</td>\n",
       "      <td>Раскладывать пасьянс.</td>\n",
       "      <td>[собирать пазл,  собирать мозаику,  складывать...</td>\n",
       "      <td>0.0</td>\n",
       "      <td>0</td>\n",
       "      <td>#НЕВЕРНО\\n\\nОтвет команды нельзя зачесть, поск...</td>\n",
       "    </tr>\n",
       "    <tr>\n",
       "      <th>817</th>\n",
       "      <td>828</td>\n",
       "      <td>Некоторые виды мух называют путниками из-за их...</td>\n",
       "      <td>спутниками, спутники, спутник</td>\n",
       "      <td>расстоянии</td>\n",
       "      <td>[спутниками,  спутники,  спутник]</td>\n",
       "      <td>0.0</td>\n",
       "      <td>0</td>\n",
       "      <td>#НЕВЕРНО.\\nРассуждения: правильный ответ — «сп...</td>\n",
       "    </tr>\n",
       "    <tr>\n",
       "      <th>30</th>\n",
       "      <td>33</td>\n",
       "      <td>Хави Повес активно продвигает концепцию плоско...</td>\n",
       "      <td>астронавт, космонавт</td>\n",
       "      <td>Космонавт</td>\n",
       "      <td>[астронавт,  космонавт]</td>\n",
       "      <td>1.0</td>\n",
       "      <td>1</td>\n",
       "      <td>#ВЕРНО\\n\\nОтвет команды «Космонавт» можно заче...</td>\n",
       "    </tr>\n",
       "    <tr>\n",
       "      <th>551</th>\n",
       "      <td>560</td>\n",
       "      <td>Борющаяся с музыкальными корпорациями группа C...</td>\n",
       "      <td>троянский конь</td>\n",
       "      <td>Прогрессирующий параноик.</td>\n",
       "      <td>[троянский конь]</td>\n",
       "      <td>0.0</td>\n",
       "      <td>0</td>\n",
       "      <td>#НЕВЕРНО\\n\\nОтвет команды не подходит к вопрос...</td>\n",
       "    </tr>\n",
       "    <tr>\n",
       "      <th>96</th>\n",
       "      <td>100</td>\n",
       "      <td>Голландский шахматист Мануэль Босбом выиграл с...</td>\n",
       "      <td>дырка, дыра</td>\n",
       "      <td>Надпись.</td>\n",
       "      <td>[дырка,  дыра]</td>\n",
       "      <td>0.0</td>\n",
       "      <td>0</td>\n",
       "      <td>#НЕВЕРНО\\n\\nКоманда предложила вариант «надпис...</td>\n",
       "    </tr>\n",
       "    <tr>\n",
       "      <th>...</th>\n",
       "      <td>...</td>\n",
       "      <td>...</td>\n",
       "      <td>...</td>\n",
       "      <td>...</td>\n",
       "      <td>...</td>\n",
       "      <td>...</td>\n",
       "      <td>...</td>\n",
       "      <td>...</td>\n",
       "    </tr>\n",
       "    <tr>\n",
       "      <th>289</th>\n",
       "      <td>294</td>\n",
       "      <td>Василий Рóзанов писал, что Наталья Нóрдман пог...</td>\n",
       "      <td>пылесос</td>\n",
       "      <td>Каспийское море.</td>\n",
       "      <td>[пылесос]</td>\n",
       "      <td>0.0</td>\n",
       "      <td>0</td>\n",
       "      <td>#НЕВЕРНО\\nРассуждения: Василий Розанов писал о...</td>\n",
       "    </tr>\n",
       "    <tr>\n",
       "      <th>238</th>\n",
       "      <td>243</td>\n",
       "      <td>Математик семнадцатого века Джон ВАллис активн...</td>\n",
       "      <td>курица, куриная лапа, лапа курицы, лапка куриц...</td>\n",
       "      <td>ЕЁ — курица.</td>\n",
       "      <td>[курица,  куриная лапа,  лапа курицы,  лапка к...</td>\n",
       "      <td>0.5</td>\n",
       "      <td>0</td>\n",
       "      <td>#ВЕРНО\\nРассуждения: ответ команды совпадает с...</td>\n",
       "    </tr>\n",
       "    <tr>\n",
       "      <th>0</th>\n",
       "      <td>0</td>\n",
       "      <td>В одном из эпизодов мультфильма Криса Батлера ...</td>\n",
       "      <td>сэр, сир, sir</td>\n",
       "      <td>«Улыбнись!»</td>\n",
       "      <td>[сэр,  сир,  sir]</td>\n",
       "      <td>0.0</td>\n",
       "      <td>0</td>\n",
       "      <td>#НЕВЕРНО\\n\\nОтвет команды не подходит по смысл...</td>\n",
       "    </tr>\n",
       "    <tr>\n",
       "      <th>832</th>\n",
       "      <td>843</td>\n",
       "      <td>В стихотворении под названием «ОН» Дэвид Лоуре...</td>\n",
       "      <td>комары, комар, комарик</td>\n",
       "      <td>Элли</td>\n",
       "      <td>[комары,  комар,  комарик]</td>\n",
       "      <td>0.0</td>\n",
       "      <td>0</td>\n",
       "      <td>#НЕВЕРНО\\n\\nВ стихотворении Дэвида Лоуренса ре...</td>\n",
       "    </tr>\n",
       "    <tr>\n",
       "      <th>409</th>\n",
       "      <td>416</td>\n",
       "      <td>«Сначала паруса, а потом корпус корабля». Это ...</td>\n",
       "      <td>шарообразность Земли, Что Земля шар, а также Ч...</td>\n",
       "      <td>Бесконечность мира.</td>\n",
       "      <td>[шарообразность Земли,  Что Земля шар,  а такж...</td>\n",
       "      <td>0.0</td>\n",
       "      <td>0</td>\n",
       "      <td>#НЕВЕРНО\\n\\nКоманда дала неправильный ответ на...</td>\n",
       "    </tr>\n",
       "  </tbody>\n",
       "</table>\n",
       "<p>400 rows × 8 columns</p>\n",
       "</div>"
      ],
      "text/plain": [
       "     Unnamed: 0  ...                                    answer_checking\n",
       "485         492  ...  #НЕВЕРНО\\n\\nОтвет команды нельзя зачесть, поск...\n",
       "817         828  ...  #НЕВЕРНО.\\nРассуждения: правильный ответ — «сп...\n",
       "30           33  ...  #ВЕРНО\\n\\nОтвет команды «Космонавт» можно заче...\n",
       "551         560  ...  #НЕВЕРНО\\n\\nОтвет команды не подходит к вопрос...\n",
       "96          100  ...  #НЕВЕРНО\\n\\nКоманда предложила вариант «надпис...\n",
       "..          ...  ...                                                ...\n",
       "289         294  ...  #НЕВЕРНО\\nРассуждения: Василий Розанов писал о...\n",
       "238         243  ...  #ВЕРНО\\nРассуждения: ответ команды совпадает с...\n",
       "0             0  ...  #НЕВЕРНО\\n\\nОтвет команды не подходит по смысл...\n",
       "832         843  ...  #НЕВЕРНО\\n\\nВ стихотворении Дэвида Лоуренса ре...\n",
       "409         416  ...  #НЕВЕРНО\\n\\nКоманда дала неправильный ответ на...\n",
       "\n",
       "[400 rows x 8 columns]"
      ]
     },
     "execution_count": 29,
     "metadata": {},
     "output_type": "execute_result"
    }
   ],
   "source": [
    "test"
   ]
  },
  {
   "cell_type": "code",
   "execution_count": 30,
   "id": "2de4a0e2",
   "metadata": {
    "execution": {
     "iopub.execute_input": "2024-08-10T14:46:54.093568Z",
     "iopub.status.busy": "2024-08-10T14:46:54.092377Z",
     "iopub.status.idle": "2024-08-10T14:46:54.125708Z",
     "shell.execute_reply": "2024-08-10T14:46:54.124938Z",
     "shell.execute_reply.started": "2024-08-10T14:46:54.093529Z"
    }
   },
   "outputs": [
    {
     "name": "stdout",
     "output_type": "stream",
     "text": [
      "400\n"
     ]
    },
    {
     "data": {
      "text/html": [
       "<div>\n",
       "<style scoped>\n",
       "    .dataframe tbody tr th:only-of-type {\n",
       "        vertical-align: middle;\n",
       "    }\n",
       "\n",
       "    .dataframe tbody tr th {\n",
       "        vertical-align: top;\n",
       "    }\n",
       "\n",
       "    .dataframe thead th {\n",
       "        text-align: right;\n",
       "    }\n",
       "</style>\n",
       "<table border=\"1\" class=\"dataframe\">\n",
       "  <thead>\n",
       "    <tr style=\"text-align: right;\">\n",
       "      <th></th>\n",
       "      <th>Unnamed: 0</th>\n",
       "      <th>q</th>\n",
       "      <th>a</th>\n",
       "      <th>predict</th>\n",
       "      <th>a_list</th>\n",
       "      <th>f1_score</th>\n",
       "      <th>exact_match</th>\n",
       "      <th>answer_checking</th>\n",
       "      <th>correct</th>\n",
       "    </tr>\n",
       "  </thead>\n",
       "  <tbody>\n",
       "    <tr>\n",
       "      <th>485</th>\n",
       "      <td>492</td>\n",
       "      <td>Автор детективов Иэн Рэнкин увлекается неким з...</td>\n",
       "      <td>собирать пазл, собирать мозаику, складывать па...</td>\n",
       "      <td>Раскладывать пасьянс.</td>\n",
       "      <td>[собирать пазл,  собирать мозаику,  складывать...</td>\n",
       "      <td>0.0</td>\n",
       "      <td>0</td>\n",
       "      <td>#НЕВЕРНО\\n\\nОтвет команды нельзя зачесть, поск...</td>\n",
       "      <td>False</td>\n",
       "    </tr>\n",
       "    <tr>\n",
       "      <th>817</th>\n",
       "      <td>828</td>\n",
       "      <td>Некоторые виды мух называют путниками из-за их...</td>\n",
       "      <td>спутниками, спутники, спутник</td>\n",
       "      <td>расстоянии</td>\n",
       "      <td>[спутниками,  спутники,  спутник]</td>\n",
       "      <td>0.0</td>\n",
       "      <td>0</td>\n",
       "      <td>#НЕВЕРНО.\\nРассуждения: правильный ответ — «сп...</td>\n",
       "      <td>False</td>\n",
       "    </tr>\n",
       "    <tr>\n",
       "      <th>30</th>\n",
       "      <td>33</td>\n",
       "      <td>Хави Повес активно продвигает концепцию плоско...</td>\n",
       "      <td>астронавт, космонавт</td>\n",
       "      <td>Космонавт</td>\n",
       "      <td>[астронавт,  космонавт]</td>\n",
       "      <td>1.0</td>\n",
       "      <td>1</td>\n",
       "      <td>#ВЕРНО\\n\\nОтвет команды «Космонавт» можно заче...</td>\n",
       "      <td>True</td>\n",
       "    </tr>\n",
       "    <tr>\n",
       "      <th>551</th>\n",
       "      <td>560</td>\n",
       "      <td>Борющаяся с музыкальными корпорациями группа C...</td>\n",
       "      <td>троянский конь</td>\n",
       "      <td>Прогрессирующий параноик.</td>\n",
       "      <td>[троянский конь]</td>\n",
       "      <td>0.0</td>\n",
       "      <td>0</td>\n",
       "      <td>#НЕВЕРНО\\n\\nОтвет команды не подходит к вопрос...</td>\n",
       "      <td>False</td>\n",
       "    </tr>\n",
       "    <tr>\n",
       "      <th>96</th>\n",
       "      <td>100</td>\n",
       "      <td>Голландский шахматист Мануэль Босбом выиграл с...</td>\n",
       "      <td>дырка, дыра</td>\n",
       "      <td>Надпись.</td>\n",
       "      <td>[дырка,  дыра]</td>\n",
       "      <td>0.0</td>\n",
       "      <td>0</td>\n",
       "      <td>#НЕВЕРНО\\n\\nКоманда предложила вариант «надпис...</td>\n",
       "      <td>False</td>\n",
       "    </tr>\n",
       "    <tr>\n",
       "      <th>...</th>\n",
       "      <td>...</td>\n",
       "      <td>...</td>\n",
       "      <td>...</td>\n",
       "      <td>...</td>\n",
       "      <td>...</td>\n",
       "      <td>...</td>\n",
       "      <td>...</td>\n",
       "      <td>...</td>\n",
       "      <td>...</td>\n",
       "    </tr>\n",
       "    <tr>\n",
       "      <th>289</th>\n",
       "      <td>294</td>\n",
       "      <td>Василий Рóзанов писал, что Наталья Нóрдман пог...</td>\n",
       "      <td>пылесос</td>\n",
       "      <td>Каспийское море.</td>\n",
       "      <td>[пылесос]</td>\n",
       "      <td>0.0</td>\n",
       "      <td>0</td>\n",
       "      <td>#НЕВЕРНО\\nРассуждения: Василий Розанов писал о...</td>\n",
       "      <td>False</td>\n",
       "    </tr>\n",
       "    <tr>\n",
       "      <th>238</th>\n",
       "      <td>243</td>\n",
       "      <td>Математик семнадцатого века Джон ВАллис активн...</td>\n",
       "      <td>курица, куриная лапа, лапа курицы, лапка куриц...</td>\n",
       "      <td>ЕЁ — курица.</td>\n",
       "      <td>[курица,  куриная лапа,  лапа курицы,  лапка к...</td>\n",
       "      <td>0.5</td>\n",
       "      <td>0</td>\n",
       "      <td>#ВЕРНО\\nРассуждения: ответ команды совпадает с...</td>\n",
       "      <td>True</td>\n",
       "    </tr>\n",
       "    <tr>\n",
       "      <th>0</th>\n",
       "      <td>0</td>\n",
       "      <td>В одном из эпизодов мультфильма Криса Батлера ...</td>\n",
       "      <td>сэр, сир, sir</td>\n",
       "      <td>«Улыбнись!»</td>\n",
       "      <td>[сэр,  сир,  sir]</td>\n",
       "      <td>0.0</td>\n",
       "      <td>0</td>\n",
       "      <td>#НЕВЕРНО\\n\\nОтвет команды не подходит по смысл...</td>\n",
       "      <td>False</td>\n",
       "    </tr>\n",
       "    <tr>\n",
       "      <th>832</th>\n",
       "      <td>843</td>\n",
       "      <td>В стихотворении под названием «ОН» Дэвид Лоуре...</td>\n",
       "      <td>комары, комар, комарик</td>\n",
       "      <td>Элли</td>\n",
       "      <td>[комары,  комар,  комарик]</td>\n",
       "      <td>0.0</td>\n",
       "      <td>0</td>\n",
       "      <td>#НЕВЕРНО\\n\\nВ стихотворении Дэвида Лоуренса ре...</td>\n",
       "      <td>False</td>\n",
       "    </tr>\n",
       "    <tr>\n",
       "      <th>409</th>\n",
       "      <td>416</td>\n",
       "      <td>«Сначала паруса, а потом корпус корабля». Это ...</td>\n",
       "      <td>шарообразность Земли, Что Земля шар, а также Ч...</td>\n",
       "      <td>Бесконечность мира.</td>\n",
       "      <td>[шарообразность Земли,  Что Земля шар,  а такж...</td>\n",
       "      <td>0.0</td>\n",
       "      <td>0</td>\n",
       "      <td>#НЕВЕРНО\\n\\nКоманда дала неправильный ответ на...</td>\n",
       "      <td>False</td>\n",
       "    </tr>\n",
       "  </tbody>\n",
       "</table>\n",
       "<p>400 rows × 9 columns</p>\n",
       "</div>"
      ],
      "text/plain": [
       "     Unnamed: 0  ... correct\n",
       "485         492  ...   False\n",
       "817         828  ...   False\n",
       "30           33  ...    True\n",
       "551         560  ...   False\n",
       "96          100  ...   False\n",
       "..          ...  ...     ...\n",
       "289         294  ...   False\n",
       "238         243  ...    True\n",
       "0             0  ...   False\n",
       "832         843  ...   False\n",
       "409         416  ...   False\n",
       "\n",
       "[400 rows x 9 columns]"
      ]
     },
     "execution_count": 30,
     "metadata": {},
     "output_type": "execute_result"
    }
   ],
   "source": [
    "test['correct'] = test['answer_checking'].apply(lambda x: '#ВЕРНО' in x)\n",
    "print(len(test))\n",
    "test"
   ]
  },
  {
   "cell_type": "code",
   "execution_count": 31,
   "id": "0dce1085",
   "metadata": {
    "execution": {
     "iopub.execute_input": "2024-08-10T14:47:05.067047Z",
     "iopub.status.busy": "2024-08-10T14:47:05.065994Z",
     "iopub.status.idle": "2024-08-10T14:47:05.089493Z",
     "shell.execute_reply": "2024-08-10T14:47:05.088846Z",
     "shell.execute_reply.started": "2024-08-10T14:47:05.067000Z"
    }
   },
   "outputs": [],
   "source": [
    "test.to_csv('test_res_with_bin.csv')"
   ]
  },
  {
   "cell_type": "code",
   "execution_count": 32,
   "id": "3625e9a3",
   "metadata": {
    "execution": {
     "iopub.execute_input": "2024-08-10T14:47:12.083985Z",
     "iopub.status.busy": "2024-08-10T14:47:12.083033Z",
     "iopub.status.idle": "2024-08-10T14:47:12.098183Z",
     "shell.execute_reply": "2024-08-10T14:47:12.097525Z",
     "shell.execute_reply.started": "2024-08-10T14:47:12.083949Z"
    }
   },
   "outputs": [
    {
     "data": {
      "text/plain": [
       "0.3375"
      ]
     },
     "execution_count": 32,
     "metadata": {},
     "output_type": "execute_result"
    }
   ],
   "source": [
    "test['correct'].sum()/ len(test['correct'])"
   ]
  },
  {
   "cell_type": "code",
   "execution_count": 33,
   "id": "4c9751d9",
   "metadata": {
    "execution": {
     "iopub.execute_input": "2024-08-10T14:47:19.523861Z",
     "iopub.status.busy": "2024-08-10T14:47:19.522771Z",
     "iopub.status.idle": "2024-08-10T14:47:21.923700Z",
     "shell.execute_reply": "2024-08-10T14:47:21.922969Z",
     "shell.execute_reply.started": "2024-08-10T14:47:19.523820Z"
    }
   },
   "outputs": [
    {
     "name": "stdout",
     "output_type": "stream",
     "text": [
      "Unnamed: 0                                                       298\n",
      "q                  В терминологии NASA [нáса] ОНИ называются «оде...\n",
      "a                                               подгузники, памперсы\n",
      "predict                                        космические скафандры\n",
      "a_list                                       [подгузники,  памперсы]\n",
      "f1_score                                                         0.0\n",
      "exact_match                                                        0\n",
      "answer_checking    #НЕВЕРНО\\n\\nОтвет команды нельзя зачесть, пото...\n",
      "correct                                                        False\n",
      "Name: 292, dtype: object\n"
     ]
    },
    {
     "data": {
      "text/plain": [
       "'#НЕВЕРНО\\nРассуждения: подгузники и памперсы действительно можно назвать «одеждой с максимальным поглощением», но космические скафандры — это средство защиты, а не одежда. Кроме того, названия популярных моделей подгузников и памперсов переводятся как «баловники» и «обнимашки», что не подходит к космическим скафандрам.'"
      ]
     },
     "execution_count": 33,
     "metadata": {},
     "output_type": "execute_result"
    }
   ],
   "source": [
    "row = test.iloc[27]\n",
    "print(row)\n",
    "completion = yandex_gpt.get_sync_completion(messages=[{'role': 'user', 'text': base_string2+row['q'] + ' ПРАВИЛЬНЫЙ ответ:'+ row['a'] + 'Ответ команды:' + row['predict'] }])\n",
    "completion"
   ]
  },
  {
   "cell_type": "code",
   "execution_count": 34,
   "id": "476c40bc",
   "metadata": {
    "execution": {
     "iopub.execute_input": "2024-08-10T14:47:24.902672Z",
     "iopub.status.busy": "2024-08-10T14:47:24.901509Z",
     "iopub.status.idle": "2024-08-10T14:47:24.915873Z",
     "shell.execute_reply": "2024-08-10T14:47:24.915181Z",
     "shell.execute_reply.started": "2024-08-10T14:47:24.902630Z"
    }
   },
   "outputs": [
    {
     "data": {
      "text/plain": [
       "'В терминологии NASA [нáса] ОНИ называются «одеждой с максимальным поглощением». Названия самых популярных моделей ИХ переводятся как «баловники» и «обнимашки». Назовите ИХ.'"
      ]
     },
     "execution_count": 34,
     "metadata": {},
     "output_type": "execute_result"
    }
   ],
   "source": [
    "row['q']"
   ]
  },
  {
   "cell_type": "code",
   "execution_count": 35,
   "id": "38a2b75c",
   "metadata": {
    "execution": {
     "iopub.execute_input": "2024-08-10T14:47:25.743922Z",
     "iopub.status.busy": "2024-08-10T14:47:25.742898Z",
     "iopub.status.idle": "2024-08-10T14:47:25.783161Z",
     "shell.execute_reply": "2024-08-10T14:47:25.782237Z",
     "shell.execute_reply.started": "2024-08-10T14:47:25.743879Z"
    }
   },
   "outputs": [
    {
     "data": {
      "text/html": [
       "<div>\n",
       "<style scoped>\n",
       "    .dataframe tbody tr th:only-of-type {\n",
       "        vertical-align: middle;\n",
       "    }\n",
       "\n",
       "    .dataframe tbody tr th {\n",
       "        vertical-align: top;\n",
       "    }\n",
       "\n",
       "    .dataframe thead th {\n",
       "        text-align: right;\n",
       "    }\n",
       "</style>\n",
       "<table border=\"1\" class=\"dataframe\">\n",
       "  <thead>\n",
       "    <tr style=\"text-align: right;\">\n",
       "      <th></th>\n",
       "      <th>Unnamed: 0</th>\n",
       "      <th>q</th>\n",
       "      <th>a</th>\n",
       "    </tr>\n",
       "  </thead>\n",
       "  <tbody>\n",
       "    <tr>\n",
       "      <th>0</th>\n",
       "      <td>0</td>\n",
       "      <td>В одном из эпизодов мультфильма Криса Батлера ...</td>\n",
       "      <td>сэр, сир, sir</td>\n",
       "    </tr>\n",
       "    <tr>\n",
       "      <th>1</th>\n",
       "      <td>1</td>\n",
       "      <td>В коротком произведении Елены Кацюбы в аду зло...</td>\n",
       "      <td>удав</td>\n",
       "    </tr>\n",
       "    <tr>\n",
       "      <th>2</th>\n",
       "      <td>2</td>\n",
       "      <td>По сюжету фильма Дэвида Хьюитта четверо астрон...</td>\n",
       "      <td>Дороти, Элли</td>\n",
       "    </tr>\n",
       "    <tr>\n",
       "      <th>3</th>\n",
       "      <td>3</td>\n",
       "      <td>Дэвид Вуттон пишет, что раньше одни учёные пол...</td>\n",
       "      <td>игра Камень ножницы бумага, Камень ножницы бумага</td>\n",
       "    </tr>\n",
       "    <tr>\n",
       "      <th>4</th>\n",
       "      <td>4</td>\n",
       "      <td>Ведущие украинской телепередачи “Орёл и решка”...</td>\n",
       "      <td>Дома лучше, А дома лучше</td>\n",
       "    </tr>\n",
       "    <tr>\n",
       "      <th>...</th>\n",
       "      <td>...</td>\n",
       "      <td>...</td>\n",
       "      <td>...</td>\n",
       "    </tr>\n",
       "    <tr>\n",
       "      <th>836</th>\n",
       "      <td>847</td>\n",
       "      <td>Животные рода хрисаора также известны как морс...</td>\n",
       "      <td>Медуса, Медуза</td>\n",
       "    </tr>\n",
       "    <tr>\n",
       "      <th>837</th>\n",
       "      <td>848</td>\n",
       "      <td>Альберто Анджела пишет, что если проследить пе...</td>\n",
       "      <td>монета</td>\n",
       "    </tr>\n",
       "    <tr>\n",
       "      <th>838</th>\n",
       "      <td>849</td>\n",
       "      <td>В казахских танцах движения рук имеют важную р...</td>\n",
       "      <td>на себя, от себя</td>\n",
       "    </tr>\n",
       "    <tr>\n",
       "      <th>839</th>\n",
       "      <td>850</td>\n",
       "      <td>Начало карьеры Линдси Лохан в кино было по-нас...</td>\n",
       "      <td>диснеевские принцессы, принцессы Дисней</td>\n",
       "    </tr>\n",
       "    <tr>\n",
       "      <th>840</th>\n",
       "      <td>851</td>\n",
       "      <td>Казахские девушки традиционно заплетают волосы...</td>\n",
       "      <td>свадьба, замужество</td>\n",
       "    </tr>\n",
       "  </tbody>\n",
       "</table>\n",
       "<p>841 rows × 3 columns</p>\n",
       "</div>"
      ],
      "text/plain": [
       "     Unnamed: 0  ...                                                  a\n",
       "0             0  ...                                      сэр, сир, sir\n",
       "1             1  ...                                               удав\n",
       "2             2  ...                                       Дороти, Элли\n",
       "3             3  ...  игра Камень ножницы бумага, Камень ножницы бумага\n",
       "4             4  ...                           Дома лучше, А дома лучше\n",
       "..          ...  ...                                                ...\n",
       "836         847  ...                                     Медуса, Медуза\n",
       "837         848  ...                                             монета\n",
       "838         849  ...                                   на себя, от себя\n",
       "839         850  ...            диснеевские принцессы, принцессы Дисней\n",
       "840         851  ...                                свадьба, замужество\n",
       "\n",
       "[841 rows x 3 columns]"
      ]
     },
     "execution_count": 35,
     "metadata": {},
     "output_type": "execute_result"
    }
   ],
   "source": [
    "df"
   ]
  },
  {
   "cell_type": "code",
   "execution_count": 36,
   "id": "8900365b",
   "metadata": {
    "execution": {
     "iopub.execute_input": "2024-08-10T14:47:28.259561Z",
     "iopub.status.busy": "2024-08-10T14:47:28.258742Z",
     "iopub.status.idle": "2024-08-10T14:47:28.274851Z",
     "shell.execute_reply": "2024-08-10T14:47:28.274033Z",
     "shell.execute_reply.started": "2024-08-10T14:47:28.259523Z"
    }
   },
   "outputs": [
    {
     "data": {
      "text/plain": [
       "0.30016666666666664"
      ]
     },
     "execution_count": 36,
     "metadata": {},
     "output_type": "execute_result"
    }
   ],
   "source": [
    "total_f1_score"
   ]
  },
  {
   "cell_type": "code",
   "execution_count": 37,
   "id": "3460fbe9",
   "metadata": {
    "execution": {
     "iopub.execute_input": "2024-08-10T14:47:29.103779Z",
     "iopub.status.busy": "2024-08-10T14:47:29.102772Z",
     "iopub.status.idle": "2024-08-10T14:47:29.113720Z",
     "shell.execute_reply": "2024-08-10T14:47:29.113089Z",
     "shell.execute_reply.started": "2024-08-10T14:47:29.103738Z"
    }
   },
   "outputs": [
    {
     "data": {
      "text/plain": [
       "0.2575"
      ]
     },
     "execution_count": 37,
     "metadata": {},
     "output_type": "execute_result"
    }
   ],
   "source": [
    "total_exact_match"
   ]
  },
  {
   "cell_type": "code",
   "execution_count": 5,
   "id": "844f1cad",
   "metadata": {},
   "outputs": [],
   "source": [
    "data=pd.read_csv('test_res_with_bin.csv')"
   ]
  },
  {
   "cell_type": "code",
   "execution_count": 6,
   "id": "961ab50a",
   "metadata": {},
   "outputs": [
    {
     "data": {
      "text/plain": [
       "0.21845238095238093"
      ]
     },
     "execution_count": 6,
     "metadata": {},
     "output_type": "execute_result"
    }
   ],
   "source": [
    "data['f1_score'].head(40).mean()"
   ]
  },
  {
   "cell_type": "code",
   "execution_count": 8,
   "id": "3a9e8ef8",
   "metadata": {},
   "outputs": [
    {
     "data": {
      "text/plain": [
       "0.175"
      ]
     },
     "execution_count": 8,
     "metadata": {},
     "output_type": "execute_result"
    }
   ],
   "source": [
    "data['exact_match'].head(40).mean()"
   ]
  },
  {
   "cell_type": "code",
   "execution_count": 9,
   "id": "dc88db1e",
   "metadata": {},
   "outputs": [
    {
     "data": {
      "text/plain": [
       "0.325"
      ]
     },
     "execution_count": 9,
     "metadata": {},
     "output_type": "execute_result"
    }
   ],
   "source": [
    "data['correct'].head(40).sum()/ len(data.head(40)['correct'])"
   ]
  },
  {
   "cell_type": "code",
   "execution_count": null,
   "id": "6e831b16",
   "metadata": {},
   "outputs": [],
   "source": []
  }
 ],
 "metadata": {
  "colab": {
   "provenance": []
  },
  "kernelspec": {
   "display_name": "Python 3 (ipykernel)",
   "language": "python",
   "name": "python3"
  },
  "language_info": {
   "codemirror_mode": {
    "name": "ipython",
    "version": 3
   },
   "file_extension": ".py",
   "mimetype": "text/x-python",
   "name": "python",
   "nbconvert_exporter": "python",
   "pygments_lexer": "ipython3",
   "version": "3.9.18"
  }
 },
 "nbformat": 4,
 "nbformat_minor": 5
}
